{
 "cells": [
  {
   "cell_type": "markdown",
   "metadata": {
    "collapsed": true
   },
   "source": [
    "<img src=\"http://cfs22.simplicdn.net/ice9/new_logo.svgz \"/>\n",
    "\n",
    "# Assignment 01: Solve a Linear Algebra Problem\n",
    "\n",
    "*The comments/sections provided are your cues to perform the assignment. You don't need to limit yourself to the number of rows/cells provided. You can add additional rows in each section to add more lines of code.*\n",
    "\n",
    "*If at any point in time you need help on solving this assignment, view our demo video to understand the different steps of the code.*\n",
    "\n",
    "**Happy coding!**\n",
    "\n",
    "* * *"
   ]
  },
  {
   "cell_type": "markdown",
   "metadata": {},
   "source": [
    "# Solving Linear Algebra problem using SciPy\n",
    "\n",
    "DESCRIPTION\n",
    "\n",
    "Problem:\n",
    "\n",
    "Use SciPy to solve a linear algebra problem.\n",
    "\n",
    "There is a test with 30 questions worth 150 marks. The test has two types of questions:\n",
    "\n",
    "1. True or false – carries 4 marks each\n",
    "\n",
    "2. Multiple-choice – carries 9 marks each\n",
    "\n",
    "Find the number of true or false and multiple-choice questions."
   ]
  },
  {
   "cell_type": "markdown",
   "metadata": {},
   "source": [
    "#### 1: Import required libraries"
   ]
  },
  {
   "cell_type": "code",
   "execution_count": 1,
   "metadata": {},
   "outputs": [],
   "source": [
    "# import numpy and scipy liear algebra\n",
    "import numpy as np\n",
    "from scipy import linalg"
   ]
  },
  {
   "cell_type": "markdown",
   "metadata": {},
   "source": [
    "#### 2: Formulate two linear equations based on the given scenario"
   ]
  },
  {
   "cell_type": "code",
   "execution_count": 5,
   "metadata": {},
   "outputs": [],
   "source": [
    "# Test has 30 questions and worth 150 marks\n",
    "# True and False questions are worth 4 marks each\n",
    "# Multiple choice questions are worth 9 points each\n",
    "\n",
    "# let x be the number of true/false questions\n",
    "# let y be the number of multiple choice questions\n",
    "\n",
    "# (x + y = 30)\n",
    "# (4x + 9y = 150)\n",
    "\n",
    "# create 2 numpy arrays, one for the variable and the other for the values\n",
    "test_qtn_var = np.array([[1, 1], [4, 9]])\n",
    "test_qtn_value = np.array([30, 150])"
   ]
  },
  {
   "cell_type": "markdown",
   "metadata": {},
   "source": [
    "\n",
    "#### 3: Apply a suitable method to solve the linear equation\n"
   ]
  },
  {
   "cell_type": "code",
   "execution_count": 6,
   "metadata": {},
   "outputs": [
    {
     "data": {
      "text/plain": [
       "array([24.,  6.])"
      ]
     },
     "execution_count": 6,
     "metadata": {},
     "output_type": "execute_result"
    }
   ],
   "source": [
    "# use linalg function of Scipy\n",
    "# use solve method to solve the linear equation and find value for x and y\n",
    "\n",
    "linalg.solve(test_qtn_var, test_qtn_value)"
   ]
  },
  {
   "cell_type": "markdown",
   "metadata": {},
   "source": [
    "Here, we can see the value of x(T/F questions) is 24 and the value of y(i.e. Muliple choice questions) is 6."
   ]
  }
 ],
 "metadata": {
  "kernelspec": {
   "display_name": "Python 3",
   "language": "python",
   "name": "python3"
  },
  "language_info": {
   "codemirror_mode": {
    "name": "ipython",
    "version": 3
   },
   "file_extension": ".py",
   "mimetype": "text/x-python",
   "name": "python",
   "nbconvert_exporter": "python",
   "pygments_lexer": "ipython3",
   "version": "3.7.6"
  }
 },
 "nbformat": 4,
 "nbformat_minor": 1
}
