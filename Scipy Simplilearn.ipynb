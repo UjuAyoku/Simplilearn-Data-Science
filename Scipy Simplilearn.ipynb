{
 "cells": [
  {
   "cell_type": "markdown",
   "metadata": {},
   "source": [
    "# SciPy - Scientific Calculations"
   ]
  },
  {
   "cell_type": "markdown",
   "metadata": {},
   "source": [
    "The function \n",
    "- optimize.minimize() is used to calculate minima. \n",
    "- integrate.quad () is used for integral calculation, \n",
    "- stats.linregress() is used for linear regression, and \n",
    "- linalg.solve() is used for solving linear system."
   ]
  },
  {
   "cell_type": "markdown",
   "metadata": {},
   "source": [
    "#### Q. Which of the following syntax is used to generate 100 random variables from a t-distribution with df=10?\n",
    "\n",
    "\n",
    "Answer: stats.t.rvs(df=10, size=100)\n",
    "\n",
    "\n",
    "Explanation:\n",
    "\n",
    "The \n",
    "- stats.t.rvs() function is used to generate random variables.\n",
    "- stats.t.pmf() function is used to generate probability of mass function, and \n",
    "- stats.t.pdf() is used to generate probability density function. \n",
    "\n",
    "Note that stats.t.rand () does not exist.\n",
    "\n",
    "\n",
    "#### Q. Which of the following functions is used to run C or C++ codes in SciPy?\n",
    "\n",
    "Answer: weave.inline()\n",
    "\n",
    "Explanation:\n",
    "\n",
    "- inline() function accepts C codes as string and compiles them for later use. \n",
    "- loadmat() loads variables from .mat file. \n",
    "- whosmat() checks the variables inside a .mat file.blitz() and then compiles NumPy expressions for faster running, but it can't accept C codes."
   ]
  },
  {
   "cell_type": "code",
   "execution_count": 1,
   "metadata": {},
   "outputs": [],
   "source": [
    "from scipy.integrate import quad"
   ]
  },
  {
   "cell_type": "code",
   "execution_count": 2,
   "metadata": {},
   "outputs": [],
   "source": [
    "def integrateFunction(x):\n",
    "    return x"
   ]
  },
  {
   "cell_type": "code",
   "execution_count": 3,
   "metadata": {},
   "outputs": [
    {
     "data": {
      "text/plain": [
       "(0.5, 5.551115123125783e-15)"
      ]
     },
     "execution_count": 3,
     "metadata": {},
     "output_type": "execute_result"
    }
   ],
   "source": [
    "quad(integrateFunction, 0, 1)"
   ]
  },
  {
   "cell_type": "code",
   "execution_count": 7,
   "metadata": {},
   "outputs": [],
   "source": [
    "def integrateFn(x, a, b):\n",
    "    return x*a+b"
   ]
  },
  {
   "cell_type": "code",
   "execution_count": 8,
   "metadata": {},
   "outputs": [],
   "source": [
    "a = 3\n",
    "b = 2"
   ]
  },
  {
   "cell_type": "code",
   "execution_count": 9,
   "metadata": {},
   "outputs": [
    {
     "data": {
      "text/plain": [
       "(3.5, 3.885780586188048e-14)"
      ]
     },
     "execution_count": 9,
     "metadata": {},
     "output_type": "execute_result"
    }
   ],
   "source": [
    "quad(integrateFn, 0, 1, args=(a,b))"
   ]
  },
  {
   "cell_type": "code",
   "execution_count": null,
   "metadata": {},
   "outputs": [],
   "source": []
  }
 ],
 "metadata": {
  "kernelspec": {
   "display_name": "Python 3",
   "language": "python",
   "name": "python3"
  },
  "language_info": {
   "codemirror_mode": {
    "name": "ipython",
    "version": 3
   },
   "file_extension": ".py",
   "mimetype": "text/x-python",
   "name": "python",
   "nbconvert_exporter": "python",
   "pygments_lexer": "ipython3",
   "version": "3.7.6"
  }
 },
 "nbformat": 4,
 "nbformat_minor": 4
}
